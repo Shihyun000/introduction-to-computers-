{
  "nbformat": 4,
  "nbformat_minor": 0,
  "metadata": {
    "colab": {
      "name": "0509.ipynb",
      "provenance": [],
      "authorship_tag": "ABX9TyM4g31wIyR2MawB9l1ONefG",
      "include_colab_link": true
    },
    "kernelspec": {
      "name": "python3",
      "display_name": "Python 3"
    },
    "language_info": {
      "name": "python"
    }
  },
  "cells": [
    {
      "cell_type": "markdown",
      "metadata": {
        "id": "view-in-github",
        "colab_type": "text"
      },
      "source": [
        "<a href=\"https://colab.research.google.com/github/Shihyun000/introduction-to-computers-/blob/main/0509.ipynb\" target=\"_parent\"><img src=\"https://colab.research.google.com/assets/colab-badge.svg\" alt=\"Open In Colab\"/></a>"
      ]
    },
    {
      "cell_type": "code",
      "execution_count": null,
      "metadata": {
        "colab": {
          "base_uri": "https://localhost:8080/"
        },
        "id": "t6sqPQi5712D",
        "outputId": "276384ed-73f8-413a-de3b-6905f6568ad1"
      },
      "outputs": [
        {
          "output_type": "stream",
          "name": "stdout",
          "text": [
            "請輸入你的體溫:34\n",
            "體溫正常!\n"
          ]
        }
      ],
      "source": [
        "temp = float(input('請輸入你的體溫:'))\n",
        "if temp >= 37.5:\n",
        "  print('體溫過高!')\n",
        "elif temp >=37 and temp <37.4:\n",
        "  print('體溫略高!')\n",
        "elif temp >=34 and temp <36.9:\n",
        "  print('體溫正常!')\n",
        "else:\n",
        "  print('體溫異常，請重新量測！')"
      ]
    },
    {
      "cell_type": "code",
      "source": [
        "score = int(input('請輸入您的成績：'))\n",
        "if score >= 90:\n",
        "  print('A')\n",
        "elif score <=89 and score >=80:\n",
        "  print('B')\n",
        "elif score <=79 and score >=70:\n",
        "  print('C')\n",
        "elif score <=69 and score >=60:\n",
        "  print('D')\n",
        "else:\n",
        "  print('E')"
      ],
      "metadata": {
        "colab": {
          "base_uri": "https://localhost:8080/"
        },
        "id": "kw5dvRw89XXG",
        "outputId": "761fd2d4-23c2-472e-e329-c1383932b703"
      },
      "execution_count": null,
      "outputs": [
        {
          "output_type": "stream",
          "name": "stdout",
          "text": [
            "請輸入您的成績：70\n",
            "C\n"
          ]
        }
      ]
    },
    {
      "cell_type": "code",
      "source": [
        "score = (input('請輸入您的成績：'))\n",
        "if (int(score)>=90):\n",
        "  print('A')\n",
        "elif (int(score)>=80):\n",
        "  print('B')\n",
        "elif (int(score)>=70):\n",
        "  print('C')\n",
        "elif (int(score)>=60):\n",
        "  print('D')\n",
        "else:\n",
        "  print('E')"
      ],
      "metadata": {
        "colab": {
          "base_uri": "https://localhost:8080/"
        },
        "id": "6iKE-kroAiLN",
        "outputId": "d8b202b1-905e-4f2d-ddae-9a57e3649d4d"
      },
      "execution_count": null,
      "outputs": [
        {
          "output_type": "stream",
          "name": "stdout",
          "text": [
            "請輸入您的成績：80\n",
            "B\n"
          ]
        }
      ]
    },
    {
      "cell_type": "code",
      "source": [
        "money = int(input('請輸入購物金額:'))\n",
        "if (money >= 10000):\n",
        "  if(money >= 100000):\n",
        "    print('八折',money*0.8 ,end = '元\\n')\n",
        "  elif(money >= 100000):\n",
        "    print('八五折',money*0.85 , end = '元\\n')\n",
        "  elif(money >= 30000):\n",
        "    print('九折',money*0.85 , end = '元\\n')\n",
        "  else:\n",
        "    print('九五折',money*0.85 , end = '元\\n')\n",
        "else:\n",
        "    print('沒打折',money, end = '元\\n')"
      ],
      "metadata": {
        "colab": {
          "base_uri": "https://localhost:8080/"
        },
        "id": "-jERPCDMFDs3",
        "outputId": "241aaaab-6859-45da-b944-2a9fd7639a5a"
      },
      "execution_count": null,
      "outputs": [
        {
          "output_type": "stream",
          "name": "stdout",
          "text": [
            "請輸入購物金額:100000\n",
            "八折 80000.0元\n"
          ]
        }
      ]
    },
    {
      "cell_type": "code",
      "source": [
        "month = int(input('請輸入月份：'))\n",
        "if (month in[3,4,5]):\n",
        "  print(month,'是春天！',sep= '月' )\n",
        "elif(month in[6,7,8]):\n",
        "  print(month,'是夏天！',sep= '月' )\n",
        "elif(month in[9,10,11]):\n",
        "  print(month,'是秋天！',sep= '月' )\n",
        "elif(month in[12,1,2]):\n",
        "  print(month,'是冬天！',sep= '月' )\n",
        "\n",
        "else:\n",
        "  print('月份不在範圍內！')"
      ],
      "metadata": {
        "colab": {
          "base_uri": "https://localhost:8080/"
        },
        "id": "niQGCX-aJOoM",
        "outputId": "ee79dfe2-856e-4050-e83c-ba7c6b32b430"
      },
      "execution_count": 63,
      "outputs": [
        {
          "output_type": "stream",
          "name": "stdout",
          "text": [
            "請輸入月份：10\n",
            "10月是秋天！\n"
          ]
        }
      ]
    },
    {
      "cell_type": "code",
      "source": [
        "tax = int(input('請輸入今年收入淨額：'))\n",
        "if(tax >= 2000000):\n",
        "  print('付稅金額：',tax*0.3,'元')\n",
        "elif(tax >= 1000000):\n",
        "  print('付稅金額：',tax*0.21,'元')\n",
        "elif(tax >= 600000):\n",
        "  print('付稅金額：',tax*0.13,'元')\n",
        "elif(tax >= 300000):\n",
        "  print('付稅金額：',tax*0.06,'元')\n",
        "else:\n",
        "  print('付稅金額：0 元')"
      ],
      "metadata": {
        "id": "zuutTdcJKsB6",
        "colab": {
          "base_uri": "https://localhost:8080/"
        },
        "outputId": "662d8ddc-08c6-42e9-e61c-e2c6c098df87"
      },
      "execution_count": 69,
      "outputs": [
        {
          "output_type": "stream",
          "name": "stdout",
          "text": [
            "請輸入今年收入淨額：2000000\n",
            "付稅金額： 600000.0 元\n"
          ]
        }
      ]
    },
    {
      "cell_type": "code",
      "source": [
        ""
      ],
      "metadata": {
        "id": "jeCMkTEhVK3q"
      },
      "execution_count": null,
      "outputs": []
    }
  ]
}