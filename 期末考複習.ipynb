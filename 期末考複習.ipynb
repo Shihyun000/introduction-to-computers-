{
  "nbformat": 4,
  "nbformat_minor": 0,
  "metadata": {
    "colab": {
      "name": "期末考考題.ipynb",
      "provenance": [],
      "collapsed_sections": [],
      "authorship_tag": "ABX9TyOQp0gVA46r1GF1RHRWfH3a",
      "include_colab_link": true
    },
    "kernelspec": {
      "name": "python3",
      "display_name": "Python 3"
    },
    "language_info": {
      "name": "python"
    }
  },
  "cells": [
    {
      "cell_type": "markdown",
      "metadata": {
        "id": "view-in-github",
        "colab_type": "text"
      },
      "source": [
        "<a href=\"https://colab.research.google.com/github/Shihyun000/introduction-to-computers-/blob/main/%E6%9C%9F%E6%9C%AB%E8%80%83%E8%A4%87%E7%BF%92.ipynb\" target=\"_parent\"><img src=\"https://colab.research.google.com/assets/colab-badge.svg\" alt=\"Open In Colab\"/></a>"
      ]
    },
    {
      "cell_type": "markdown",
      "source": [
        "0314"
      ],
      "metadata": {
        "id": "TaBP6wyb5xur"
      }
    },
    {
      "cell_type": "code",
      "source": [
        "print(\"\\t**\\n***\\n\\t**\")"
      ],
      "metadata": {
        "colab": {
          "base_uri": "https://localhost:8080/"
        },
        "id": "roqsbwl850Sc",
        "outputId": "f0c06c17-47f2-4b3b-dfa8-5a6713c4b6a5"
      },
      "execution_count": null,
      "outputs": [
        {
          "output_type": "stream",
          "name": "stdout",
          "text": [
            "\t**\n",
            "***\n",
            "\t**\n"
          ]
        }
      ]
    },
    {
      "cell_type": "code",
      "source": [
        "print(\"hi!\\n你好！\")"
      ],
      "metadata": {
        "colab": {
          "base_uri": "https://localhost:8080/"
        },
        "id": "qHQtMmJO6EA2",
        "outputId": "2a72e236-8bda-4f2a-f9ba-38d54ba95fc0"
      },
      "execution_count": null,
      "outputs": [
        {
          "output_type": "stream",
          "name": "stdout",
          "text": [
            "hi!\n",
            "你好！\n"
          ]
        }
      ]
    },
    {
      "cell_type": "markdown",
      "source": [
        "0321"
      ],
      "metadata": {
        "id": "IK82Im4F6dn4"
      }
    },
    {
      "cell_type": "code",
      "source": [
        "print('hey','hi','hello')\n",
        "print('hey','hi','hello',sep='_')\n",
        "print('hey','hi','hello',sep='\\t')\n",
        "print('hey','hi','hello',sep='\\n')"
      ],
      "metadata": {
        "colab": {
          "base_uri": "https://localhost:8080/"
        },
        "id": "g-ZvBUtT6Fzb",
        "outputId": "e86fd3c0-c5cf-44bb-deeb-1f0768bb7768"
      },
      "execution_count": null,
      "outputs": [
        {
          "output_type": "stream",
          "name": "stdout",
          "text": [
            "hey hi hello\n",
            "hey_hi_hello\n",
            "hey\thi\thello\n",
            "hey\n",
            "hi\n",
            "hello\n"
          ]
        }
      ]
    },
    {
      "cell_type": "code",
      "source": [
        "print('午安,','同學好！','打起精神來！！',sep='\\n')\n"
      ],
      "metadata": {
        "colab": {
          "base_uri": "https://localhost:8080/"
        },
        "id": "qlhmd56S6fQH",
        "outputId": "19fb25d8-f88e-4d8b-ab40-84de2c8ce6c9"
      },
      "execution_count": null,
      "outputs": [
        {
          "output_type": "stream",
          "name": "stdout",
          "text": [
            "午安,\n",
            "同學好！\n",
            "打起精神來！！\n"
          ]
        }
      ]
    },
    {
      "cell_type": "code",
      "source": [
        "print(123,end=',')\n",
        "print(456)"
      ],
      "metadata": {
        "colab": {
          "base_uri": "https://localhost:8080/"
        },
        "id": "gTDMwZzt6iSs",
        "outputId": "5e3211e9-bace-4679-aea9-1407324a1ecf"
      },
      "execution_count": null,
      "outputs": [
        {
          "output_type": "stream",
          "name": "stdout",
          "text": [
            "123,456\n"
          ]
        }
      ]
    },
    {
      "cell_type": "code",
      "source": [
        "print(123,end='')\n",
        "print(456)"
      ],
      "metadata": {
        "colab": {
          "base_uri": "https://localhost:8080/"
        },
        "id": "S9G5cpcA6r9v",
        "outputId": "827759e5-deb0-4747-bd8a-9d35c2c5e476"
      },
      "execution_count": null,
      "outputs": [
        {
          "output_type": "stream",
          "name": "stdout",
          "text": [
            "123456\n"
          ]
        }
      ]
    },
    {
      "cell_type": "code",
      "source": [
        "print('午安','同學好','打起精神來',sep='_',end='!!!')"
      ],
      "metadata": {
        "colab": {
          "base_uri": "https://localhost:8080/"
        },
        "id": "LTnjU1k36t5g",
        "outputId": "4e456182-1274-4566-c4de-d5f1b10acc84"
      },
      "execution_count": null,
      "outputs": [
        {
          "output_type": "stream",
          "name": "stdout",
          "text": [
            "午安_同學好_打起精神來!!!"
          ]
        }
      ]
    },
    {
      "cell_type": "code",
      "source": [
        "print('下午好','平安順心','健康如意',sep=',',end='^^')"
      ],
      "metadata": {
        "colab": {
          "base_uri": "https://localhost:8080/"
        },
        "id": "CsceIDQ26wvB",
        "outputId": "d067393c-266c-43a4-d881-eab584fc80e3"
      },
      "execution_count": null,
      "outputs": [
        {
          "output_type": "stream",
          "name": "stdout",
          "text": [
            "下午好,平安順心,健康如意^^"
          ]
        }
      ]
    },
    {
      "cell_type": "code",
      "source": [
        "a = int(input('請輸入國文成績'))\n",
        "b = int(input('請輸入英文成績'))\n",
        "c = int(input('請輸入數學成績'))\n",
        "print('你的成績總分為:',a+b+c,sep='\\n')"
      ],
      "metadata": {
        "id": "cZ70eJdz62kC"
      },
      "execution_count": null,
      "outputs": []
    },
    {
      "cell_type": "markdown",
      "source": [
        "0328"
      ],
      "metadata": {
        "id": "TEyaW61i7k6H"
      }
    },
    {
      "cell_type": "markdown",
      "source": [
        "%取餘數"
      ],
      "metadata": {
        "id": "A41h4BvF8BIO"
      }
    },
    {
      "cell_type": "code",
      "source": [
        "35%4"
      ],
      "metadata": {
        "id": "YgMhinws7JTJ",
        "colab": {
          "base_uri": "https://localhost:8080/"
        },
        "outputId": "46c2ed38-7ce0-4fe8-92df-8d4e408088c7"
      },
      "execution_count": 11,
      "outputs": [
        {
          "output_type": "execute_result",
          "data": {
            "text/plain": [
              "3"
            ]
          },
          "metadata": {},
          "execution_count": 11
        }
      ]
    },
    {
      "cell_type": "markdown",
      "source": [
        "//取商數"
      ],
      "metadata": {
        "id": "AJrnNpNy8Hqx"
      }
    },
    {
      "cell_type": "code",
      "source": [
        "35//4"
      ],
      "metadata": {
        "colab": {
          "base_uri": "https://localhost:8080/"
        },
        "id": "MXIaFjqd79YT",
        "outputId": "1d685115-50a7-4020-ca7b-dae232c4b0ed"
      },
      "execution_count": 12,
      "outputs": [
        {
          "output_type": "execute_result",
          "data": {
            "text/plain": [
              "8"
            ]
          },
          "metadata": {},
          "execution_count": 12
        }
      ]
    },
    {
      "cell_type": "code",
      "source": [
        "上底 = int(input('請輸入梯形上底長度：'))\n",
        "下底 = int(input('請輸入梯形下底長度：'))\n",
        "高 = int(input('請輸入梯形的高度：'))\n",
        "面積 = (上底 + 下底) *高 / 2\n",
        "print('梯形上底長度為:',上底,'梯形下底長度為:',下底,'梯形高度為:',高,'梯形面積為:',面積)"
      ],
      "metadata": {
        "colab": {
          "base_uri": "https://localhost:8080/"
        },
        "id": "HhulPd4u8Ggp",
        "outputId": "739bef8c-6bef-429b-abe0-9f032089c112"
      },
      "execution_count": 16,
      "outputs": [
        {
          "output_type": "stream",
          "name": "stdout",
          "text": [
            "請輸入梯形上底長度：3\n",
            "請輸入梯形下底長度：4\n",
            "請輸入梯形的高度：3\n",
            "梯形上底長度為: 3 梯形下底長度為: 4 梯形高度為: 3 梯形面積為: 10.5\n"
          ]
        }
      ]
    },
    {
      "cell_type": "markdown",
      "source": [
        "格式化是串：print( ‘’％（） )"
      ],
      "metadata": {
        "id": "z4Ek5_Oi9x3Z"
      }
    },
    {
      "cell_type": "code",
      "source": [
        "print('梯形上底長度為:%d梯形下底長度為:%d梯形高度為:%d梯形面積為:%0.2f'%(上底,下底,高,面積))"
      ],
      "metadata": {
        "colab": {
          "base_uri": "https://localhost:8080/"
        },
        "id": "AZljG1F-9Afz",
        "outputId": "dc7dc05d-ee88-4117-d86a-6443bcada386"
      },
      "execution_count": 23,
      "outputs": [
        {
          "output_type": "stream",
          "name": "stdout",
          "text": [
            "梯形上底長度為:3梯形下底長度為:4梯形高度為:3梯形面積為:10.50\n"
          ]
        }
      ]
    },
    {
      "cell_type": "code",
      "source": [
        "print('梯形上底長度為:%d,梯形下底長度為:%d,梯形高度為:%d,梯形面積為:%0.1f'%(上底,下底,高,面積))"
      ],
      "metadata": {
        "colab": {
          "base_uri": "https://localhost:8080/"
        },
        "id": "-2x-qhPG9tUB",
        "outputId": "cb953f0e-3405-415f-b9ea-361e1d590546"
      },
      "execution_count": 21,
      "outputs": [
        {
          "output_type": "stream",
          "name": "stdout",
          "text": [
            "梯形上底長度為:3,梯形下底長度為:4,梯形高度為:3,梯形面積為:10.5\n"
          ]
        }
      ]
    },
    {
      "cell_type": "markdown",
      "source": [
        "小數顯示方式"
      ],
      "metadata": {
        "id": "DypBTzH2-fgB"
      }
    },
    {
      "cell_type": "code",
      "source": [
        "a = 1.1\n",
        "b = 2.02\n",
        "c = 3.003\n",
        "print('a=%0.1f,b=%0.2f,c=%0.3f'%(a,b,c)) "
      ],
      "metadata": {
        "colab": {
          "base_uri": "https://localhost:8080/"
        },
        "id": "9ZDhrye3-AsH",
        "outputId": "c5eb2472-564e-4fa5-9e16-e31723887342"
      },
      "execution_count": 24,
      "outputs": [
        {
          "output_type": "stream",
          "name": "stdout",
          "text": [
            "a=1.1,b=2.02,c=3.003\n"
          ]
        }
      ]
    },
    {
      "cell_type": "code",
      "source": [
        "身高 = int(input('請輸入您的身高：'))\n",
        "體重 = int(input('請輸入您的體重：'))\n",
        "BMI = 體重/((身高/100)**2)\n",
        "print('身高: %d,體重: %d,BMI: %0.2f '%(身高,體重,BMI))"
      ],
      "metadata": {
        "colab": {
          "base_uri": "https://localhost:8080/"
        },
        "id": "d0DfZYnG-eFa",
        "outputId": "bc6dd0a4-5fbf-428c-9773-9e97a95a46db"
      },
      "execution_count": 25,
      "outputs": [
        {
          "output_type": "stream",
          "name": "stdout",
          "text": [
            "請輸入您的身高：162\n",
            "請輸入您的體重：60\n",
            "身高: 162,體重: 60,BMI: 22.86 \n"
          ]
        }
      ]
    },
    {
      "cell_type": "markdown",
      "source": [
        "0411"
      ],
      "metadata": {
        "id": "cdE1Od67A9f-"
      }
    },
    {
      "cell_type": "markdown",
      "source": [
        "複合指定運算"
      ],
      "metadata": {
        "id": "q6vkIDRLBMlX"
      }
    },
    {
      "cell_type": "code",
      "source": [
        "i = 10\n",
        "i **= 3 #**次方\n",
        "i "
      ],
      "metadata": {
        "colab": {
          "base_uri": "https://localhost:8080/"
        },
        "id": "SZScAWNZ-nff",
        "outputId": "570f0e81-9d05-48c4-a67a-39f4a999dc3f"
      },
      "execution_count": 26,
      "outputs": [
        {
          "output_type": "execute_result",
          "data": {
            "text/plain": [
              "1000"
            ]
          },
          "metadata": {},
          "execution_count": 26
        }
      ]
    },
    {
      "cell_type": "markdown",
      "source": [
        "運算子＋ 可運算可字串"
      ],
      "metadata": {
        "id": "QV_-ukikBdi2"
      }
    },
    {
      "cell_type": "code",
      "source": [
        "print(1+2)"
      ],
      "metadata": {
        "colab": {
          "base_uri": "https://localhost:8080/"
        },
        "id": "aoRwD5zNBCkb",
        "outputId": "20f7fce9-dc9f-46dd-925d-ba393d607fd1"
      },
      "execution_count": 27,
      "outputs": [
        {
          "output_type": "stream",
          "name": "stdout",
          "text": [
            "3\n"
          ]
        }
      ]
    },
    {
      "cell_type": "code",
      "source": [
        "print('1'+'2')"
      ],
      "metadata": {
        "colab": {
          "base_uri": "https://localhost:8080/"
        },
        "id": "U1cwVp40BjVN",
        "outputId": "3b393fb6-b6b2-4fbf-c78d-bb06dcdf3c5b"
      },
      "execution_count": 28,
      "outputs": [
        {
          "output_type": "stream",
          "name": "stdout",
          "text": [
            "12\n"
          ]
        }
      ]
    },
    {
      "cell_type": "code",
      "source": [
        "deposit = int(input('請輸入本金存款金額：'))\n",
        "years = 1.02**6\n",
        "deposit *= years\n",
        "print('六年後存款為:'+str(deposit))"
      ],
      "metadata": {
        "colab": {
          "base_uri": "https://localhost:8080/"
        },
        "id": "FpMgyoTSBmtL",
        "outputId": "40a62f5d-6623-4f46-fd1e-03c54b0ce3ec"
      },
      "execution_count": 29,
      "outputs": [
        {
          "output_type": "stream",
          "name": "stdout",
          "text": [
            "請輸入本金存款金額：10000\n",
            "六年後存款為:11261.62419264\n"
          ]
        }
      ]
    },
    {
      "cell_type": "code",
      "source": [
        "pw = input('請輸入密碼')\n",
        "if (pw == '1234'):\n",
        "    print('歡迎光臨')"
      ],
      "metadata": {
        "colab": {
          "base_uri": "https://localhost:8080/"
        },
        "id": "c7s3zg88Bwc7",
        "outputId": "434cfa9b-e9d5-48c2-e30f-b790920477ec"
      },
      "execution_count": 30,
      "outputs": [
        {
          "output_type": "stream",
          "name": "stdout",
          "text": [
            "請輸入密碼1234\n",
            "歡迎光臨\n"
          ]
        }
      ]
    },
    {
      "cell_type": "code",
      "source": [
        "pw = input('請輸入密碼')\n",
        "if (pw == '1234'):\n",
        "    print('歡迎光臨')\n",
        "else:print('密碼錯誤！')"
      ],
      "metadata": {
        "colab": {
          "base_uri": "https://localhost:8080/"
        },
        "id": "RdytNKjTCeDb",
        "outputId": "43d62cea-8aef-4fef-a4f0-afc70c6134f7"
      },
      "execution_count": 32,
      "outputs": [
        {
          "output_type": "stream",
          "name": "stdout",
          "text": [
            "請輸入密碼1111\n",
            "密碼錯誤！\n"
          ]
        }
      ]
    },
    {
      "cell_type": "code",
      "source": [
        "rain = input('今天會下雨嗎')\n",
        "if (rain == 'Y'or rain == 'y'):\n",
        "    print('出門記得帶傘！')\n",
        "else:print('不用帶傘')"
      ],
      "metadata": {
        "colab": {
          "base_uri": "https://localhost:8080/"
        },
        "id": "8AR2TN8LCoFw",
        "outputId": "21136772-892f-4655-a0ad-104f0dc5fa34"
      },
      "execution_count": 33,
      "outputs": [
        {
          "output_type": "stream",
          "name": "stdout",
          "text": [
            "今天會下雨嗎y\n",
            "出門記得帶傘！\n"
          ]
        }
      ]
    },
    {
      "cell_type": "code",
      "source": [
        "Ｎ = int(input('請輸入正整數'))\n",
        "if ( N %2 )== 0:\n",
        "      print(str(N)+'為偶數！')\n",
        "else:print(str(N)+'為奇數！')"
      ],
      "metadata": {
        "colab": {
          "base_uri": "https://localhost:8080/"
        },
        "id": "4kQhp_0nCs4a",
        "outputId": "dea39b02-87c0-4b8c-d62d-26969cb7b252"
      },
      "execution_count": 34,
      "outputs": [
        {
          "output_type": "stream",
          "name": "stdout",
          "text": [
            "請輸入正整數25\n",
            "25為奇數！\n"
          ]
        }
      ]
    },
    {
      "cell_type": "markdown",
      "source": [
        "0509"
      ],
      "metadata": {
        "id": "yToWgecaDDCe"
      }
    },
    {
      "cell_type": "markdown",
      "source": [
        "判斷式"
      ],
      "metadata": {
        "id": "XxRUd3BoDZSA"
      }
    },
    {
      "cell_type": "code",
      "source": [
        "temp = float(input('請輸入你的體溫:'))\n",
        "if temp >= 37.5:\n",
        "  print('體溫過高!')\n",
        "elif temp >=37 and temp <37.4:\n",
        "  print('體溫略高!')\n",
        "elif temp >=34 and temp <36.9:\n",
        "  print('體溫正常!')\n",
        "else:\n",
        "  print('體溫異常，請重新量測！')"
      ],
      "metadata": {
        "colab": {
          "base_uri": "https://localhost:8080/"
        },
        "id": "JYblKbSDCvsS",
        "outputId": "b84aba36-5c61-467c-9f15-b05d4fd41e70"
      },
      "execution_count": 35,
      "outputs": [
        {
          "output_type": "stream",
          "name": "stdout",
          "text": [
            "請輸入你的體溫:34\n",
            "體溫正常!\n"
          ]
        }
      ]
    },
    {
      "cell_type": "code",
      "source": [
        "score = int(input('請輸入您的成績：'))\n",
        "if score >= 90:\n",
        "  print('A')\n",
        "elif score >=80:\n",
        "  print('B')\n",
        "elif score >=70:\n",
        "  print('C')\n",
        "elif score >=60:\n",
        "  print('D')\n",
        "else:\n",
        "  print('E')"
      ],
      "metadata": {
        "colab": {
          "base_uri": "https://localhost:8080/"
        },
        "id": "rAaZLqDUDEbd",
        "outputId": "8b605a84-d7be-43ae-9c4b-5ecfee5a39da"
      },
      "execution_count": 41,
      "outputs": [
        {
          "output_type": "stream",
          "name": "stdout",
          "text": [
            "請輸入您的成績：76\n",
            "C\n"
          ]
        }
      ]
    },
    {
      "cell_type": "code",
      "source": [
        "score = (input('請輸入您的成績：'))\n",
        "if (int(score)>=90):\n",
        "  print('A')\n",
        "elif (int(score)>=80):\n",
        "  print('B')\n",
        "elif (int(score)>=70):\n",
        "  print('C')\n",
        "elif (int(score)>=60):\n",
        "  print('D')\n",
        "else:\n",
        "  print('E')"
      ],
      "metadata": {
        "colab": {
          "base_uri": "https://localhost:8080/"
        },
        "id": "Rb2FE409DH1o",
        "outputId": "35bee8e2-931d-4cd9-de91-b4ae2d8cd407"
      },
      "execution_count": 38,
      "outputs": [
        {
          "output_type": "stream",
          "name": "stdout",
          "text": [
            "請輸入您的成績：65\n",
            "D\n"
          ]
        }
      ]
    },
    {
      "cell_type": "markdown",
      "source": [
        "週年慶"
      ],
      "metadata": {
        "id": "tul9wSrhFPkM"
      }
    },
    {
      "cell_type": "code",
      "source": [
        "money = int(input('請輸入購物金額:'))\n",
        "if (money >= 10000):\n",
        "  if(money >= 100000):\n",
        "    print('八折',money*0.8 ,end = '元\\n')\n",
        "  elif(money >= 100000):\n",
        "    print('八五折',money*0.85 , end = '元\\n')\n",
        "  elif(money >= 30000):\n",
        "    print('九折',money*0.85 , end = '元\\n')\n",
        "  else:\n",
        "    print('九五折',money*0.85 , end = '元\\n')\n",
        "else:\n",
        "    print('沒打折',money, end = '元\\n')"
      ],
      "metadata": {
        "colab": {
          "base_uri": "https://localhost:8080/"
        },
        "id": "9RiwagEcEEDd",
        "outputId": "7aa67609-a16e-4a82-839b-f9f42098e008"
      },
      "execution_count": 42,
      "outputs": [
        {
          "output_type": "stream",
          "name": "stdout",
          "text": [
            "請輸入購物金額:5453345\n",
            "八折 4362676.0元\n"
          ]
        }
      ]
    },
    {
      "cell_type": "markdown",
      "source": [
        "季節"
      ],
      "metadata": {
        "id": "yt637EuoFUUb"
      }
    },
    {
      "cell_type": "code",
      "source": [
        "month = int(input('請輸入月份：'))\n",
        "if (month in[3,4,5]):\n",
        "  print(month,'是春天！',sep= '月' )\n",
        "elif(month in[6,7,8]):\n",
        "  print(month,'是夏天！',sep= '月' )\n",
        "elif(month in[9,10,11]):\n",
        "  print(month,'是秋天！',sep= '月' )\n",
        "elif(month in[12,1,2]):\n",
        "  print(month,'是冬天！',sep= '月' )\n",
        "\n",
        "else:\n",
        "  print('月份不在範圍內！')"
      ],
      "metadata": {
        "colab": {
          "base_uri": "https://localhost:8080/"
        },
        "id": "OlIRRWuDEWU0",
        "outputId": "67130d63-0256-433d-8a76-c0588d6411d9"
      },
      "execution_count": 43,
      "outputs": [
        {
          "output_type": "stream",
          "name": "stdout",
          "text": [
            "請輸入月份：5\n",
            "5月是春天！\n"
          ]
        }
      ]
    },
    {
      "cell_type": "markdown",
      "source": [
        "稅金"
      ],
      "metadata": {
        "id": "YQkVy8mYFVwG"
      }
    },
    {
      "cell_type": "code",
      "source": [
        "tax = int(input('請輸入今年收入淨額：'))\n",
        "if(tax >= 2000000):\n",
        "  print('付稅金額：',tax*0.3,'元')\n",
        "elif(tax >= 1000000):\n",
        "  print('付稅金額：',tax*0.21,'元')\n",
        "elif(tax >= 600000):\n",
        "  print('付稅金額：',tax*0.13,'元')\n",
        "elif(tax >= 300000):\n",
        "  print('付稅金額：',tax*0.06,'元')\n",
        "else:\n",
        "  print('付稅金額：0 元')"
      ],
      "metadata": {
        "colab": {
          "base_uri": "https://localhost:8080/"
        },
        "id": "5_N_B6HrEfv4",
        "outputId": "da98f822-061c-49fb-e0ce-c4031f26e069"
      },
      "execution_count": 45,
      "outputs": [
        {
          "output_type": "stream",
          "name": "stdout",
          "text": [
            "請輸入今年收入淨額：2000000\n",
            "付稅金額： 600000.0 元\n"
          ]
        }
      ]
    },
    {
      "cell_type": "markdown",
      "source": [
        "0516"
      ],
      "metadata": {
        "id": "yHdR-MRgFDSN"
      }
    },
    {
      "cell_type": "markdown",
      "source": [
        "先複習range用法(起始值,終止值(不包含),間隔值)\n",
        "\n",
        "ex range(1,3)=1,2\n",
        "\n"
      ],
      "metadata": {
        "id": "9QK5MRCtGPBd"
      }
    },
    {
      "cell_type": "code",
      "source": [
        "a=range(1,3)\n",
        "print(list(a))"
      ],
      "metadata": {
        "colab": {
          "base_uri": "https://localhost:8080/"
        },
        "id": "ly4Wc21IHGnr",
        "outputId": "ef270d25-2262-4872-d405-3d0be92e3d51"
      },
      "execution_count": 51,
      "outputs": [
        {
          "output_type": "stream",
          "name": "stdout",
          "text": [
            "[1, 2]\n"
          ]
        }
      ]
    },
    {
      "cell_type": "code",
      "source": [
        "for n in range(3):#從零開始跑\n",
        "  print(n)"
      ],
      "metadata": {
        "colab": {
          "base_uri": "https://localhost:8080/"
        },
        "id": "ivvP6izHEjcA",
        "outputId": "539c40d9-7008-4113-e6f2-c9903a7c4f71"
      },
      "execution_count": 46,
      "outputs": [
        {
          "output_type": "stream",
          "name": "stdout",
          "text": [
            "0\n",
            "1\n",
            "2\n"
          ]
        }
      ]
    },
    {
      "cell_type": "code",
      "source": [
        "for n in range(3):#從零開始跑\n",
        "  print(n,end=',')"
      ],
      "metadata": {
        "colab": {
          "base_uri": "https://localhost:8080/"
        },
        "id": "kChHo867GmBk",
        "outputId": "54af05b1-12c9-444b-c17c-8502c1615960"
      },
      "execution_count": 48,
      "outputs": [
        {
          "output_type": "stream",
          "name": "stdout",
          "text": [
            "0,1,2,"
          ]
        }
      ]
    },
    {
      "cell_type": "code",
      "source": [
        "N = int(input('請輸入一個正整數'))\n",
        "for m in range(1,N+1):\n",
        "  print(m,end='')"
      ],
      "metadata": {
        "colab": {
          "base_uri": "https://localhost:8080/"
        },
        "id": "T6D5eDAyGshR",
        "outputId": "ec4386a5-34b9-4c82-c9c5-70c077442135"
      },
      "execution_count": 52,
      "outputs": [
        {
          "output_type": "stream",
          "name": "stdout",
          "text": [
            "請輸入一個正整數4\n",
            "1234"
          ]
        }
      ]
    },
    {
      "cell_type": "code",
      "source": [
        "sum = 0\n",
        "for n in range(3):#0,1,2\n",
        "  sum = sum+n\n",
        "print(sum)"
      ],
      "metadata": {
        "colab": {
          "base_uri": "https://localhost:8080/"
        },
        "id": "kJ6cziqMHbJU",
        "outputId": "2af50564-fe3a-493e-92dd-05723b4e00fa"
      },
      "execution_count": 53,
      "outputs": [
        {
          "output_type": "stream",
          "name": "stdout",
          "text": [
            "3\n"
          ]
        }
      ]
    },
    {
      "cell_type": "code",
      "source": [
        "sum = 0\n",
        "for n in range(5):#0,1,2,3,4\n",
        "  sum = sum+n\n",
        "print(sum)"
      ],
      "metadata": {
        "colab": {
          "base_uri": "https://localhost:8080/"
        },
        "id": "ar8PJxayHeYc",
        "outputId": "d8701860-475e-44e3-a35e-5efb2ab32e8c"
      },
      "execution_count": 54,
      "outputs": [
        {
          "output_type": "stream",
          "name": "stdout",
          "text": [
            "10\n"
          ]
        }
      ]
    },
    {
      "cell_type": "code",
      "source": [
        "sum = 0 \n",
        "for n in range(10,1,-2):#10,8,6,4,2\n",
        "  sum = sum+n\n",
        "print(sum)"
      ],
      "metadata": {
        "colab": {
          "base_uri": "https://localhost:8080/"
        },
        "id": "NTVdRHEFHm-K",
        "outputId": "868273bf-2487-4293-957f-f50025b566db"
      },
      "execution_count": 55,
      "outputs": [
        {
          "output_type": "stream",
          "name": "stdout",
          "text": [
            "30\n"
          ]
        }
      ]
    },
    {
      "cell_type": "code",
      "source": [
        "sum = 0 \n",
        "N = int(input('請輸入一個正整數:'))\n",
        "for n in range(1,N+1):\n",
        "  sum +=n\n",
        "print(sum)"
      ],
      "metadata": {
        "colab": {
          "base_uri": "https://localhost:8080/"
        },
        "id": "yEck4bpLHtLV",
        "outputId": "b0e65acc-2bd3-47f6-d4fc-95b1f49b4648"
      },
      "execution_count": 57,
      "outputs": [
        {
          "output_type": "stream",
          "name": "stdout",
          "text": [
            "請輸入一個正整數:50\n",
            "1275\n"
          ]
        }
      ]
    },
    {
      "cell_type": "markdown",
      "source": [
        "mine"
      ],
      "metadata": {
        "id": "edTQ5SBYIxQd"
      }
    },
    {
      "cell_type": "code",
      "source": [
        "N = int(input('請輸入一個正整數:'))\n",
        "for n in range(1,N+1):\n",
        "    m = ((n*(n+1))//2) #設定一個公式\n",
        "    print('1到',n,'的整數整數和為：',m,sep='') #跑完直接跳下一列"
      ],
      "metadata": {
        "colab": {
          "base_uri": "https://localhost:8080/"
        },
        "id": "U5pFWE2mH0R3",
        "outputId": "7f034c32-ecd6-4674-874e-2fef78b4b776"
      },
      "execution_count": 59,
      "outputs": [
        {
          "output_type": "stream",
          "name": "stdout",
          "text": [
            "請輸入一個正整數:2\n",
            "1到1的整數整數和為：1\n",
            "1到2的整數整數和為：3\n"
          ]
        }
      ]
    },
    {
      "cell_type": "markdown",
      "source": [
        "teacher's"
      ],
      "metadata": {
        "id": "qtWsIaBbIy3F"
      }
    },
    {
      "cell_type": "code",
      "source": [
        "sum = 0 \n",
        "N = int(input('請輸入一個正整數:'))\n",
        "for m in range(1,N+1):\n",
        "  sum = sum+m #符合結果直接加起來再跑下一個\n",
        "  print('1到',str(m),'的整數和為',sum)"
      ],
      "metadata": {
        "colab": {
          "base_uri": "https://localhost:8080/"
        },
        "id": "VoD3pmgzH-kW",
        "outputId": "457c90e3-9e2f-4c5a-c366-3f5a2c8dcc21"
      },
      "execution_count": 60,
      "outputs": [
        {
          "output_type": "stream",
          "name": "stdout",
          "text": [
            "請輸入一個正整數:2\n",
            "1到 1 的整數和為 1\n",
            "1到 2 的整數和為 3\n"
          ]
        }
      ]
    },
    {
      "cell_type": "code",
      "source": [
        "sum = 0 \n",
        "N = int(input('請輸入一個正整數:'))\n",
        "for n in range(1,N+1):\n",
        "  sum = sum+n\n",
        "print('1到',n,'的整數和為',sum) #print的位置不同"
      ],
      "metadata": {
        "colab": {
          "base_uri": "https://localhost:8080/"
        },
        "id": "pjMLmktXIvM7",
        "outputId": "ea7f4e2e-5b8b-4533-cbc1-dedab8506468"
      },
      "execution_count": 62,
      "outputs": [
        {
          "output_type": "stream",
          "name": "stdout",
          "text": [
            "請輸入一個正整數:2\n",
            "1到 2 的整數和為 3\n"
          ]
        }
      ]
    },
    {
      "cell_type": "markdown",
      "source": [
        "巢狀迴圈"
      ],
      "metadata": {
        "id": "gUqsQs22JxS0"
      }
    },
    {
      "cell_type": "code",
      "source": [
        "for j in range(1,5): #1,2,3,4\n",
        "  print(j)\n",
        "  for i in range(1,3):#1,2\n",
        "    k=i*j\n",
        "    print(j,'*',i,'=',k)"
      ],
      "metadata": {
        "colab": {
          "base_uri": "https://localhost:8080/"
        },
        "id": "JZGuFfdlJBiG",
        "outputId": "83846d05-13a2-4588-c7cb-2994b70e84d1"
      },
      "execution_count": 63,
      "outputs": [
        {
          "output_type": "stream",
          "name": "stdout",
          "text": [
            "1\n",
            "1 * 1 = 1\n",
            "1 * 2 = 2\n",
            "2\n",
            "2 * 1 = 2\n",
            "2 * 2 = 4\n",
            "3\n",
            "3 * 1 = 3\n",
            "3 * 2 = 6\n",
            "4\n",
            "4 * 1 = 4\n",
            "4 * 2 = 8\n"
          ]
        }
      ]
    },
    {
      "cell_type": "code",
      "source": [
        "for j in range(1,6): #1,2,3,4,5\n",
        "  print(j)\n",
        "  for i in range(1,3):#1,2\n",
        "    k=i*j\n",
        "    print(j,'*',i,'=',k)"
      ],
      "metadata": {
        "colab": {
          "base_uri": "https://localhost:8080/"
        },
        "id": "n3AY7zw_JNqq",
        "outputId": "efef27d9-8fd6-4164-81bb-89cd21e1ad7d"
      },
      "execution_count": 64,
      "outputs": [
        {
          "output_type": "stream",
          "name": "stdout",
          "text": [
            "1\n",
            "1 * 1 = 1\n",
            "1 * 2 = 2\n",
            "2\n",
            "2 * 1 = 2\n",
            "2 * 2 = 4\n",
            "3\n",
            "3 * 1 = 3\n",
            "3 * 2 = 6\n",
            "4\n",
            "4 * 1 = 4\n",
            "4 * 2 = 8\n",
            "5\n",
            "5 * 1 = 5\n",
            "5 * 2 = 10\n"
          ]
        }
      ]
    },
    {
      "cell_type": "code",
      "source": [
        "for i in range(1,5):\n",
        "  if (i==4):\n",
        "    break\n",
        "  print(i ,end='')"
      ],
      "metadata": {
        "colab": {
          "base_uri": "https://localhost:8080/"
        },
        "id": "Vv7UFqK4Jkjw",
        "outputId": "14942dcb-ad46-40b6-ab44-8d9107ed61e6"
      },
      "execution_count": 65,
      "outputs": [
        {
          "output_type": "stream",
          "name": "stdout",
          "text": [
            "123"
          ]
        }
      ]
    },
    {
      "cell_type": "code",
      "source": [
        "for i in range(1,6):\n",
        "  if (i==4):\n",
        "    continue\n",
        "  print(i ,end='')"
      ],
      "metadata": {
        "colab": {
          "base_uri": "https://localhost:8080/"
        },
        "id": "8KUDDaMqKJT5",
        "outputId": "55fb1bb9-372a-4c6f-dd45-8a0809e0cb18"
      },
      "execution_count": 66,
      "outputs": [
        {
          "output_type": "stream",
          "name": "stdout",
          "text": [
            "1235"
          ]
        }
      ]
    },
    {
      "cell_type": "code",
      "source": [
        "count = 0 \n",
        "for string in '測試看看！':\n",
        "  count+=1 #跑幾次\n",
        "  if string == '看':\n",
        "    break #跑到看停止\n",
        "  print(string) #印出：測、試\n",
        "print('迴圈結束')\n",
        "print('迴圈執行了%d次'%count)"
      ],
      "metadata": {
        "colab": {
          "base_uri": "https://localhost:8080/"
        },
        "id": "ctsJga58KLAD",
        "outputId": "53e0d8a2-560c-4865-e8fc-96cb252af612"
      },
      "execution_count": 67,
      "outputs": [
        {
          "output_type": "stream",
          "name": "stdout",
          "text": [
            "測\n",
            "試\n",
            "迴圈結束\n",
            "迴圈執行了3次\n"
          ]
        }
      ]
    },
    {
      "cell_type": "code",
      "source": [
        "count = 0 \n",
        "for string in '測試看看！':\n",
        "  count+=1 #跑幾次\n",
        "  if string == '看':\n",
        "    break #跑到看停止\n",
        "print('迴圈結束')\n",
        "print('迴圈執行了%d次'%count)"
      ],
      "metadata": {
        "colab": {
          "base_uri": "https://localhost:8080/"
        },
        "id": "aROa5f05KN1d",
        "outputId": "c957f4bb-b212-459d-e472-d0f2ee0f771d"
      },
      "execution_count": 69,
      "outputs": [
        {
          "output_type": "stream",
          "name": "stdout",
          "text": [
            "迴圈結束\n",
            "迴圈執行了3次\n"
          ]
        }
      ]
    },
    {
      "cell_type": "markdown",
      "source": [
        "九九乘法表很常出現"
      ],
      "metadata": {
        "id": "sPylXZrWLLkh"
      }
    },
    {
      "cell_type": "code",
      "source": [
        "for j in range(2,10): #2~9\n",
        "  for i in range(1,10): #1~9\n",
        "    k=j*i\n",
        "    print(f'{j}*{i}={k}',end=' \\t') #跑j第一個數與i的第一個數相乘，結果放在旁邊 \\t\n",
        "  print('')"
      ],
      "metadata": {
        "colab": {
          "base_uri": "https://localhost:8080/"
        },
        "id": "h2PfA-Y5K44S",
        "outputId": "497094b7-c22b-4e35-ce2f-30ac99f9ea35"
      },
      "execution_count": 86,
      "outputs": [
        {
          "output_type": "stream",
          "name": "stdout",
          "text": [
            "2*1=2 \t2*2=4 \t2*3=6 \t2*4=8 \t2*5=10 \t2*6=12 \t2*7=14 \t2*8=16 \t2*9=18 \t\n",
            "3*1=3 \t3*2=6 \t3*3=9 \t3*4=12 \t3*5=15 \t3*6=18 \t3*7=21 \t3*8=24 \t3*9=27 \t\n",
            "4*1=4 \t4*2=8 \t4*3=12 \t4*4=16 \t4*5=20 \t4*6=24 \t4*7=28 \t4*8=32 \t4*9=36 \t\n",
            "5*1=5 \t5*2=10 \t5*3=15 \t5*4=20 \t5*5=25 \t5*6=30 \t5*7=35 \t5*8=40 \t5*9=45 \t\n",
            "6*1=6 \t6*2=12 \t6*3=18 \t6*4=24 \t6*5=30 \t6*6=36 \t6*7=42 \t6*8=48 \t6*9=54 \t\n",
            "7*1=7 \t7*2=14 \t7*3=21 \t7*4=28 \t7*5=35 \t7*6=42 \t7*7=49 \t7*8=56 \t7*9=63 \t\n",
            "8*1=8 \t8*2=16 \t8*3=24 \t8*4=32 \t8*5=40 \t8*6=48 \t8*7=56 \t8*8=64 \t8*9=72 \t\n",
            "9*1=9 \t9*2=18 \t9*3=27 \t9*4=36 \t9*5=45 \t9*6=54 \t9*7=63 \t9*8=72 \t9*9=81 \t\n"
          ]
        }
      ]
    },
    {
      "cell_type": "markdown",
      "source": [
        "teacher's"
      ],
      "metadata": {
        "id": "8NOqFlIkOVXu"
      }
    },
    {
      "cell_type": "code",
      "source": [
        "for i in range(2,10):\n",
        "  for j in range(1,10):\n",
        "    product = i*j\n",
        "    print('%d*%d=%2d' %(i,j,product),end=' ') #複習格式化字串\n",
        "  print()"
      ],
      "metadata": {
        "colab": {
          "base_uri": "https://localhost:8080/"
        },
        "id": "kvrNDJJhLfmF",
        "outputId": "d21388a0-3703-4f90-f99e-0f2fb402b55c"
      },
      "execution_count": 81,
      "outputs": [
        {
          "output_type": "stream",
          "name": "stdout",
          "text": [
            "2*1= 2 2*2= 4 2*3= 6 2*4= 8 2*5=10 2*6=12 2*7=14 2*8=16 2*9=18 \n",
            "3*1= 3 3*2= 6 3*3= 9 3*4=12 3*5=15 3*6=18 3*7=21 3*8=24 3*9=27 \n",
            "4*1= 4 4*2= 8 4*3=12 4*4=16 4*5=20 4*6=24 4*7=28 4*8=32 4*9=36 \n",
            "5*1= 5 5*2=10 5*3=15 5*4=20 5*5=25 5*6=30 5*7=35 5*8=40 5*9=45 \n",
            "6*1= 6 6*2=12 6*3=18 6*4=24 6*5=30 6*6=36 6*7=42 6*8=48 6*9=54 \n",
            "7*1= 7 7*2=14 7*3=21 7*4=28 7*5=35 7*6=42 7*7=49 7*8=56 7*9=63 \n",
            "8*1= 8 8*2=16 8*3=24 8*4=32 8*5=40 8*6=48 8*7=56 8*8=64 8*9=72 \n",
            "9*1= 9 9*2=18 9*3=27 9*4=36 9*5=45 9*6=54 9*7=63 9*8=72 9*9=81 \n"
          ]
        }
      ]
    },
    {
      "cell_type": "code",
      "source": [
        "N = int(input('請輸入一個正整數:'))\n",
        "for m in range(1,N+1):\n",
        "  if (m%5 == 0):\n",
        "    continue #跳過符合的值再跑\n",
        "  print(m,end=' ')"
      ],
      "metadata": {
        "colab": {
          "base_uri": "https://localhost:8080/"
        },
        "id": "k_tuYElkL_xr",
        "outputId": "1b10a372-fc93-468b-9c5a-7e00b0a58647"
      },
      "execution_count": 78,
      "outputs": [
        {
          "output_type": "stream",
          "name": "stdout",
          "text": [
            "請輸入一個正整數:21\n",
            "1 2 3 4 6 7 8 9 11 12 13 14 16 17 18 19 21 "
          ]
        }
      ]
    },
    {
      "cell_type": "markdown",
      "source": [
        "求最小公倍數"
      ],
      "metadata": {
        "id": "ECijrIGMNCkm"
      }
    },
    {
      "cell_type": "code",
      "source": [
        "a= int(input('請輸入a值:'))\n",
        "b= int(input('請輸入b值:'))\n",
        "for i in range(1,(a*b)+1):\n",
        "  if(i%a ==0 and i%b ==0):  #i值剛好可以整除兩數就停止\n",
        "    break\n",
        "print('%d和%d的最小公倍數=%d'%(a,b,i))"
      ],
      "metadata": {
        "colab": {
          "base_uri": "https://localhost:8080/"
        },
        "id": "Wg_2F4tWMhBT",
        "outputId": "7f8df4cb-1fd1-4488-a941-e96c1850866e"
      },
      "execution_count": 87,
      "outputs": [
        {
          "output_type": "stream",
          "name": "stdout",
          "text": [
            "請輸入a值:3\n",
            "請輸入b值:5\n",
            "3和5的最小公倍數=15\n"
          ]
        }
      ]
    },
    {
      "cell_type": "markdown",
      "source": [
        "0530 while"
      ],
      "metadata": {
        "id": "Ffw4unJcOnwr"
      }
    },
    {
      "cell_type": "code",
      "source": [
        "total = n = 0 \n",
        "while n<=10: #去掉括號\n",
        "  total += n\n",
        "  n+=1 #中止條件\n",
        "print(total)"
      ],
      "metadata": {
        "colab": {
          "base_uri": "https://localhost:8080/"
        },
        "id": "Hr5MVHD7M8Ak",
        "outputId": "97d36ed1-9d74-45db-d66a-08c41bbaec0a"
      },
      "execution_count": 88,
      "outputs": [
        {
          "output_type": "stream",
          "name": "stdout",
          "text": [
            "55\n"
          ]
        }
      ]
    },
    {
      "cell_type": "code",
      "source": [
        "total = i = 1\n",
        "n = int(input('請輸入正整數n值:'))\n",
        "while i <=n:\n",
        "  total *= i \n",
        "  i +=1\n",
        "print('%d!=%d'%(n,total))"
      ],
      "metadata": {
        "colab": {
          "base_uri": "https://localhost:8080/"
        },
        "id": "iQVir84ePCHf",
        "outputId": "7407a531-ff38-42ee-c12c-2272810c7fef"
      },
      "execution_count": 89,
      "outputs": [
        {
          "output_type": "stream",
          "name": "stdout",
          "text": [
            "請輸入正整數n值:5\n",
            "5!=120\n"
          ]
        }
      ]
    },
    {
      "cell_type": "code",
      "source": [
        "i = 0\n",
        "result = 0\n",
        "while i <= 50:\n",
        "    if i % 2 !=0:\n",
        "        result += i \n",
        "    i +=1\n",
        "print('0～50的奇數和結果是%d'%result)"
      ],
      "metadata": {
        "colab": {
          "base_uri": "https://localhost:8080/"
        },
        "id": "T2vK-pvYPG_6",
        "outputId": "cb835342-d0b2-4d13-8c5e-87b89d648ae0"
      },
      "execution_count": 90,
      "outputs": [
        {
          "output_type": "stream",
          "name": "stdout",
          "text": [
            "0～50的奇數和結果是625\n"
          ]
        }
      ]
    },
    {
      "cell_type": "code",
      "source": [
        "i = 0\n",
        "result = 0\n",
        "while i <= 50:\n",
        "    if i % 2 ==0:\n",
        "        result += i \n",
        "    i +=1\n",
        "print('0～50的偶數和結果是%d'%result)"
      ],
      "metadata": {
        "colab": {
          "base_uri": "https://localhost:8080/"
        },
        "id": "AIDdynGAPl-7",
        "outputId": "359df11c-beb2-4784-fd7b-7881ce23a2d5"
      },
      "execution_count": 91,
      "outputs": [
        {
          "output_type": "stream",
          "name": "stdout",
          "text": [
            "0～50的偶數和結果是650\n"
          ]
        }
      ]
    },
    {
      "cell_type": "code",
      "source": [
        "n = int(input('請輸入正整數:'))\n",
        "for i in range(1,n+1):\n",
        "  for j in range(i,n+1):\n",
        "    print('*',end='')\n",
        "  print()"
      ],
      "metadata": {
        "colab": {
          "base_uri": "https://localhost:8080/"
        },
        "id": "JZTRJ-9dPniR",
        "outputId": "9672dd86-b916-4416-fd73-21a6aa2a4abd"
      },
      "execution_count": 98,
      "outputs": [
        {
          "output_type": "stream",
          "name": "stdout",
          "text": [
            "請輸入正整數:5\n",
            "*****\n",
            "****\n",
            "***\n",
            "**\n",
            "*\n"
          ]
        }
      ]
    },
    {
      "cell_type": "code",
      "source": [
        "sum = 0 \n",
        "for i in range(0,101):\n",
        "  if i%3==0 or i%7==0:\n",
        "    sum +=i\n",
        "print('數值1～100中，所有是3或7的倍數之總和=',sum)"
      ],
      "metadata": {
        "colab": {
          "base_uri": "https://localhost:8080/"
        },
        "id": "A7CoayYSPsjU",
        "outputId": "89c6e28a-a028-43af-c05c-c6a386fbefff"
      },
      "execution_count": 93,
      "outputs": [
        {
          "output_type": "stream",
          "name": "stdout",
          "text": [
            "數值1～100中，所有是3或7的倍數之總和= 2208\n"
          ]
        }
      ]
    },
    {
      "cell_type": "code",
      "source": [
        "p=1\n",
        "counter = 0\n",
        "n = int(input('請輸入正整數:'))\n",
        "print(n,'的因數有',end=' ')\n",
        "while p<=n:\n",
        "  if n%p==0:\n",
        "    print(p,end=' ')\n",
        "    counter+=1\n",
        "  p+=1\n",
        "print() \n",
        "if counter==2:\n",
        "  print(n,'是質數')\n",
        "else:\n",
        "  print(n,'不是質數')"
      ],
      "metadata": {
        "colab": {
          "base_uri": "https://localhost:8080/"
        },
        "id": "Y4PbWRfxPxxO",
        "outputId": "46c58dc3-7c0f-4824-e9f9-00ff1c2d59b0"
      },
      "execution_count": 94,
      "outputs": [
        {
          "output_type": "stream",
          "name": "stdout",
          "text": [
            "請輸入正整數:3\n",
            "3 的因數有 1 3 \n",
            "3 是質數\n"
          ]
        }
      ]
    },
    {
      "cell_type": "markdown",
      "source": [
        "0606"
      ],
      "metadata": {
        "id": "-_Vph3W-Q0px"
      }
    },
    {
      "cell_type": "code",
      "source": [
        "list4=['香蕉','蘋果','橘子']"
      ],
      "metadata": {
        "id": "pzC_MueBP5Gi"
      },
      "execution_count": 99,
      "outputs": []
    },
    {
      "cell_type": "markdown",
      "source": [
        "負值代表往後取"
      ],
      "metadata": {
        "id": "21ES4MlHRd10"
      }
    },
    {
      "cell_type": "code",
      "source": [
        "print(list4[-1])\n",
        "print(list4[-3])"
      ],
      "metadata": {
        "colab": {
          "base_uri": "https://localhost:8080/"
        },
        "id": "2wSTvDMnRZvz",
        "outputId": "5b74dbec-7d53-4649-fdbd-2de12b4fd8bb"
      },
      "execution_count": 100,
      "outputs": [
        {
          "output_type": "stream",
          "name": "stdout",
          "text": [
            "橘子\n",
            "香蕉\n"
          ]
        }
      ]
    },
    {
      "cell_type": "code",
      "source": [
        "list5=[['tom','1234']],['mary','abcd'],['david','5678']"
      ],
      "metadata": {
        "id": "_qhk1dXPRcOd"
      },
      "execution_count": 101,
      "outputs": []
    },
    {
      "cell_type": "code",
      "source": [
        "print(list5[1][1])"
      ],
      "metadata": {
        "colab": {
          "base_uri": "https://localhost:8080/"
        },
        "id": "pJQ9qf94RjmT",
        "outputId": "3d07b3b9-15c6-4041-b78c-71d04ece42a9"
      },
      "execution_count": 102,
      "outputs": [
        {
          "output_type": "stream",
          "name": "stdout",
          "text": [
            "abcd\n"
          ]
        }
      ]
    },
    {
      "cell_type": "code",
      "source": [
        "print(list5[0][0])"
      ],
      "metadata": {
        "colab": {
          "base_uri": "https://localhost:8080/"
        },
        "id": "q5YiC9t_RnCU",
        "outputId": "1f941776-9085-4b59-cbad-97fe4ae9e544"
      },
      "execution_count": 103,
      "outputs": [
        {
          "output_type": "stream",
          "name": "stdout",
          "text": [
            "['tom', '1234']\n"
          ]
        }
      ]
    },
    {
      "cell_type": "code",
      "source": [
        "print(list5[0][0][0])"
      ],
      "metadata": {
        "colab": {
          "base_uri": "https://localhost:8080/"
        },
        "id": "4QU2CRLHRsKw",
        "outputId": "9b3de3ac-b66e-434d-99c9-0c79ec335231"
      },
      "execution_count": 104,
      "outputs": [
        {
          "output_type": "stream",
          "name": "stdout",
          "text": [
            "tom\n"
          ]
        }
      ]
    },
    {
      "cell_type": "code",
      "source": [
        "score = [85,79,93]\n",
        "print('國文成績:%d分'%score[0])\n",
        "print('數學成績:%d分'%score[1])\n",
        "print('英文成績:%d分'%score[2])"
      ],
      "metadata": {
        "colab": {
          "base_uri": "https://localhost:8080/"
        },
        "id": "D77TkPp-R1Lx",
        "outputId": "327b9950-e836-4915-eab1-e0800fd89e65"
      },
      "execution_count": 105,
      "outputs": [
        {
          "output_type": "stream",
          "name": "stdout",
          "text": [
            "國文成績:85分\n",
            "數學成績:79分\n",
            "英文成績:93分\n"
          ]
        }
      ]
    },
    {
      "cell_type": "markdown",
      "source": [
        "改串列元素"
      ],
      "metadata": {
        "id": "SWPtNSNdSM9N"
      }
    },
    {
      "cell_type": "code",
      "source": [
        "list6=[1,2,3,4,5]"
      ],
      "metadata": {
        "id": "TChHVwyOR-Hi"
      },
      "execution_count": 106,
      "outputs": []
    },
    {
      "cell_type": "code",
      "source": [
        "list6[0]=9"
      ],
      "metadata": {
        "id": "lm8mtSqISGmY"
      },
      "execution_count": 107,
      "outputs": []
    },
    {
      "cell_type": "code",
      "source": [
        "print(list6)"
      ],
      "metadata": {
        "colab": {
          "base_uri": "https://localhost:8080/"
        },
        "id": "_I2Pl7xzSKov",
        "outputId": "639962ff-1f29-439f-dd34-df99a6628c6d"
      },
      "execution_count": 108,
      "outputs": [
        {
          "output_type": "stream",
          "name": "stdout",
          "text": [
            "[9, 2, 3, 4, 5]\n"
          ]
        }
      ]
    },
    {
      "cell_type": "code",
      "source": [
        "items=[123,'apple',True]\n",
        "for item in items:\n",
        "  print(item)"
      ],
      "metadata": {
        "colab": {
          "base_uri": "https://localhost:8080/"
        },
        "id": "pz-UETjySLUx",
        "outputId": "b307e5a9-3be1-4a32-bf76-f1f4336197a9"
      },
      "execution_count": 109,
      "outputs": [
        {
          "output_type": "stream",
          "name": "stdout",
          "text": [
            "123\n",
            "apple\n",
            "True\n"
          ]
        }
      ]
    },
    {
      "cell_type": "code",
      "source": [
        "scores =[85,79,93]"
      ],
      "metadata": {
        "id": "SL6iZW_JSXfL"
      },
      "execution_count": 110,
      "outputs": []
    },
    {
      "cell_type": "code",
      "source": [
        "print(len(scores))"
      ],
      "metadata": {
        "colab": {
          "base_uri": "https://localhost:8080/"
        },
        "id": "1dew5S6DSawX",
        "outputId": "e3ac0996-0f18-4c3f-b34f-52fd7355b8f7"
      },
      "execution_count": 111,
      "outputs": [
        {
          "output_type": "stream",
          "name": "stdout",
          "text": [
            "3\n"
          ]
        }
      ]
    },
    {
      "cell_type": "markdown",
      "source": [
        "利用range(len())去跑"
      ],
      "metadata": {
        "id": "ELHb23ovSi1h"
      }
    },
    {
      "cell_type": "code",
      "source": [
        "scores=[85,79,93]\n",
        "for i in range(len(score)):\n",
        "  print(scores[i])"
      ],
      "metadata": {
        "colab": {
          "base_uri": "https://localhost:8080/"
        },
        "id": "mr7W8XPTScWh",
        "outputId": "c79a1c87-35fd-458e-b987-92d60e573923"
      },
      "execution_count": 112,
      "outputs": [
        {
          "output_type": "stream",
          "name": "stdout",
          "text": [
            "85\n",
            "79\n",
            "93\n"
          ]
        }
      ]
    },
    {
      "cell_type": "code",
      "source": [
        "scores=[85,79,93]\n",
        "for i in scores:\n",
        "  print(i)"
      ],
      "metadata": {
        "colab": {
          "base_uri": "https://localhost:8080/"
        },
        "id": "rbbHq2CSShcx",
        "outputId": "8cf3b246-b77a-485a-edfb-224ececef023"
      },
      "execution_count": 114,
      "outputs": [
        {
          "output_type": "stream",
          "name": "stdout",
          "text": [
            "85\n",
            "79\n",
            "93\n"
          ]
        }
      ]
    },
    {
      "cell_type": "markdown",
      "source": [
        "for in range讀串列"
      ],
      "metadata": {
        "id": "mh1px5meThm_"
      }
    },
    {
      "cell_type": "code",
      "source": [
        "subjects = ['國文','數學','英文']\n",
        "scores = [85,79,93]\n",
        "for i in range(len(scores)):\n",
        "  print('%s成績：%d分'%(subjects[i],scores[i])) # %s 字串 %d十進位"
      ],
      "metadata": {
        "colab": {
          "base_uri": "https://localhost:8080/"
        },
        "id": "B7S3EY-qSxRy",
        "outputId": "3e8b31fd-4ff4-4379-9b3d-55b71cd0d911"
      },
      "execution_count": 116,
      "outputs": [
        {
          "output_type": "stream",
          "name": "stdout",
          "text": [
            "國文成績：85分\n",
            "數學成績：79分\n",
            "英文成績：93分\n"
          ]
        }
      ]
    },
    {
      "cell_type": "code",
      "source": [
        "numbers=[1,2,3]\n",
        "names=['Tom','Mary','Tony']\n",
        "for i in range(len(numbers)):\n",
        "   print('編號：%d 姓名：%s'%(numbers[i],names[i]))"
      ],
      "metadata": {
        "colab": {
          "base_uri": "https://localhost:8080/"
        },
        "id": "UYp51grLT6sD",
        "outputId": "866a7923-6128-42ca-c86c-e1045f1f3ca4"
      },
      "execution_count": 119,
      "outputs": [
        {
          "output_type": "stream",
          "name": "stdout",
          "text": [
            "編號：1 姓名：Tom\n",
            "編號：2 姓名：Mary\n",
            "編號：3 姓名：Tony\n"
          ]
        }
      ]
    },
    {
      "cell_type": "code",
      "source": [
        "numbers=[1,2,3]\n",
        "names=['Tom','Mary','Tony']\n",
        "for i in range(len(numbers)):\n",
        "   print('編號：%s 姓名：%s'%(numbers[i],names[i]))"
      ],
      "metadata": {
        "colab": {
          "base_uri": "https://localhost:8080/"
        },
        "id": "IBXOWiDSVFth",
        "outputId": "93278ba5-e8fa-4dc1-b797-7af7204ce3cb"
      },
      "execution_count": 120,
      "outputs": [
        {
          "output_type": "stream",
          "name": "stdout",
          "text": [
            "編號：1 姓名：Tom\n",
            "編號：2 姓名：Mary\n",
            "編號：3 姓名：Tony\n"
          ]
        }
      ]
    },
    {
      "cell_type": "code",
      "source": [
        ""
      ],
      "metadata": {
        "id": "pLeVeVZ7VQyT"
      },
      "execution_count": null,
      "outputs": []
    }
  ]
}